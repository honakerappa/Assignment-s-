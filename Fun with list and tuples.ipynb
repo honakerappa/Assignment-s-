{
 "cells": [
  {
   "cell_type": "code",
   "execution_count": 8,
   "id": "37244487",
   "metadata": {},
   "outputs": [
    {
     "name": "stdout",
     "output_type": "stream",
     "text": [
      "Num of list: 5\n",
      "Enter intial value: 2\n",
      "Enter last value: 5\n",
      "Enter intial value: 1\n",
      "Enter last value: 2\n",
      "Enter intial value: 4\n",
      "Enter last value: 4\n",
      "Enter intial value: 2\n",
      "Enter last value: 3\n",
      "Enter intial value: 2\n",
      "Enter last value: 1\n",
      "[('2', '1'), ('1', '2'), ('2', '3'), ('4', '4'), ('2', '5')]\n"
     ]
    }
   ],
   "source": [
    "# Write a Python program to get a list, sorted in increasing order by the last element in each tuple from a given list of non-empty tuples\n",
    "\n",
    "Num_of_list = int(input(\"Num of list: \"))\n",
    "list_value=[]\n",
    "def last_value(n):\n",
    "    return n[-1]\n",
    "def sort(tuples):\n",
    "    for i in range (Num_of_list):\n",
    "        Empty_list=[]\n",
    "        intial_value=input(\"Enter intial value: \")\n",
    "        last_value_1=input(\"Enter last value: \")\n",
    "        Empty_list.extend([intial_value,last_value_1])\n",
    "        list_value.append(tuple(Empty_list))\n",
    "    return sorted(tuples,key=last_value)\n",
    "tuples=list_value\n",
    "print(sort(tuples))"
   ]
  },
  {
   "cell_type": "code",
   "execution_count": null,
   "id": "ed8887f0",
   "metadata": {},
   "outputs": [],
   "source": []
  },
  {
   "cell_type": "code",
   "execution_count": null,
   "id": "67631bff",
   "metadata": {},
   "outputs": [],
   "source": []
  },
  {
   "cell_type": "code",
   "execution_count": null,
   "id": "57d322d9",
   "metadata": {},
   "outputs": [],
   "source": []
  },
  {
   "cell_type": "code",
   "execution_count": null,
   "id": "f25534ac",
   "metadata": {},
   "outputs": [],
   "source": []
  },
  {
   "cell_type": "code",
   "execution_count": null,
   "id": "832cafeb",
   "metadata": {},
   "outputs": [],
   "source": []
  }
 ],
 "metadata": {
  "kernelspec": {
   "display_name": "Python 3 (ipykernel)",
   "language": "python",
   "name": "python3"
  },
  "language_info": {
   "codemirror_mode": {
    "name": "ipython",
    "version": 3
   },
   "file_extension": ".py",
   "mimetype": "text/x-python",
   "name": "python",
   "nbconvert_exporter": "python",
   "pygments_lexer": "ipython3",
   "version": "3.10.0"
  }
 },
 "nbformat": 4,
 "nbformat_minor": 5
}
