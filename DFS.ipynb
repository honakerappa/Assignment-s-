{
 "cells": [
  {
   "cell_type": "code",
   "execution_count": 9,
   "id": "d66665a4",
   "metadata": {},
   "outputs": [
    {
     "name": "stdout",
     "output_type": "stream",
     "text": [
      "Following is Depth First Traversal : \n",
      "3 0 2 "
     ]
    }
   ],
   "source": [
    "\n",
    "from collections import defaultdict\n",
    " \n",
    "class Graph:\n",
    "    def __init__(self):\n",
    "\n",
    "        self.graph = defaultdict(list)\n",
    "        \n",
    "    def AddElement(self,u,v):\n",
    "        self.graph[u].append(v)\n",
    " \n",
    "    def DFS_traversal(self, s):\n",
    " \n",
    "        visited = [False] * (max(self.graph) + 1)\n",
    "        queue = []\n",
    "\n",
    "        queue.append(s)\n",
    "        visited[s] = True\n",
    " \n",
    "        while queue:\n",
    "            s = queue.pop(0)\n",
    "            print (s, end = \" \")\n",
    " \n",
    "            for i in self.graph[s]:\n",
    "                if visited[i] == False:\n",
    "                    queue.append(i)\n",
    "                    visited[i] = True\n",
    "                    \n",
    "g = Graph()\n",
    "g.AddElement(1, 0)\n",
    "g.AddElement(2, 0)\n",
    "g.AddElement(3, 0)\n",
    "g.AddElement(3, 2)\n",
    " \n",
    "print (\"Following is Depth First Traversal : \")\n",
    "g.DFS_traversal(3)"
   ]
  },
  {
   "cell_type": "code",
   "execution_count": null,
   "id": "caa76f59",
   "metadata": {},
   "outputs": [],
   "source": []
  }
 ],
 "metadata": {
  "kernelspec": {
   "display_name": "Python 3 (ipykernel)",
   "language": "python",
   "name": "python3"
  },
  "language_info": {
   "codemirror_mode": {
    "name": "ipython",
    "version": 3
   },
   "file_extension": ".py",
   "mimetype": "text/x-python",
   "name": "python",
   "nbconvert_exporter": "python",
   "pygments_lexer": "ipython3",
   "version": "3.9.12"
  }
 },
 "nbformat": 4,
 "nbformat_minor": 5
}
