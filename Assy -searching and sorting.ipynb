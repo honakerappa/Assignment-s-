{
 "cells": [
  {
   "cell_type": "code",
   "execution_count": null,
   "id": "0170df40",
   "metadata": {},
   "outputs": [],
   "source": [
    "#1.Implement binary search\n"
   ]
  },
  {
   "cell_type": "code",
   "execution_count": 1,
   "id": "b608e8b1",
   "metadata": {},
   "outputs": [
    {
     "name": "stdout",
     "output_type": "stream",
     "text": [
      "Element is present at index 3\n"
     ]
    }
   ],
   "source": [
    "# Python 3 program for recursive binary search.\n",
    "# Modifications needed for the older Python 2 are found in comments.\n",
    "\n",
    "# Returns index of x in arr if present, else -1\n",
    "def binary_search(arr, low, high, x):\n",
    "\n",
    "    # Check base case\n",
    "    if high >= low:\n",
    "\n",
    "        mid = (high + low) // 2\n",
    "\n",
    "        # If element is present at the middle itself\n",
    "        if arr[mid] == x:\n",
    "            return mid\n",
    "\n",
    "        # If element is smaller than mid, then it can only\n",
    "        # be present in left subarray\n",
    "        elif arr[mid] > x:\n",
    "            return binary_search(arr, low, mid - 1, x)\n",
    "\n",
    "        # Else the element can only be present in right subarray\n",
    "        else:\n",
    "            return binary_search(arr, mid + 1, high, x)\n",
    "\n",
    "    else:\n",
    "        # Element is not present in the array\n",
    "        return -1\n",
    "\n",
    "# Test array\n",
    "arr = [ 2, 3, 4, 10, 40 ]\n",
    "x = 10\n",
    "\n",
    "# Function call\n",
    "result = binary_search(arr, 0, len(arr)-1, x)\n",
    "\n",
    "if result != -1:\n",
    "    print(\"Element is present at index\", str(result))\n",
    "else:\n",
    "    print(\"Element is not present in array\")\n"
   ]
  },
  {
   "cell_type": "code",
   "execution_count": null,
   "id": "13837325",
   "metadata": {},
   "outputs": [],
   "source": [
    "#2.Implement Merge Sort"
   ]
  },
  {
   "cell_type": "code",
   "execution_count": 2,
   "id": "d75f9c11",
   "metadata": {},
   "outputs": [
    {
     "name": "stdout",
     "output_type": "stream",
     "text": [
      "Given array is\n",
      "12 11 13 5 6 7 \n",
      "\n",
      "Sorted array is\n",
      "5 6 7 11 12 13 "
     ]
    }
   ],
   "source": [
    "# Python program for implementation of MergeSort\n",
    "\n",
    "# Merges two subarrays of arr[].\n",
    "# First subarray is arr[l..m]\n",
    "# Second subarray is arr[m+1..r]\n",
    "\n",
    "\n",
    "def merge(arr, l, m, r):\n",
    "    n1 = m - l + 1\n",
    "    n2 = r - m\n",
    "\n",
    "    # create temp arrays\n",
    "    L = [0] * (n1)\n",
    "    R = [0] * (n2)\n",
    "\n",
    "    # Copy data to temp arrays L[] and R[]\n",
    "    for i in range(0, n1):\n",
    "        L[i] = arr[l + i]\n",
    "\n",
    "    for j in range(0, n2):\n",
    "        R[j] = arr[m + 1 + j]\n",
    "\n",
    "    # Merge the temp arrays back into arr[l..r]\n",
    "    i = 0\t # Initial index of first subarray\n",
    "    j = 0\t # Initial index of second subarray\n",
    "    k = l\t # Initial index of merged subarray\n",
    "    \n",
    "    while i < n1 and j < n2:\n",
    "        if L[i] <= R[j]:\n",
    "            arr[k] = L[i]\n",
    "            i += 1\n",
    "        else:\n",
    "            arr[k] = R[j]\n",
    "            j += 1\n",
    "        k += 1\n",
    "\n",
    "    # Copy the remaining elements of L[], if there\n",
    "    # are any\n",
    "    while i < n1:\n",
    "        arr[k] = L[i]\n",
    "        i += 1\n",
    "        k += 1\n",
    "\n",
    "    # Copy the remaining elements of R[], if there\n",
    "    # are any\n",
    "    while j < n2:\n",
    "        arr[k] = R[j]\n",
    "        j += 1\n",
    "        k += 1\n",
    "\n",
    "# l is for left index and r is right index of the\n",
    "# sub-array of arr to be sorted\n",
    "\n",
    "\n",
    "def mergeSort(arr, l, r):\n",
    "    if l < r:\n",
    "\n",
    "        # Same as (l+r)//2, but avoids overflow for\n",
    "        # large l and h\n",
    "        m = l+(r-l)//2\n",
    "\n",
    "        # Sort first and second halves\n",
    "        mergeSort(arr, l, m)\n",
    "        mergeSort(arr, m+1, r)\n",
    "        merge(arr, l, m, r)\n",
    "\n",
    "\n",
    "# Driver code to test above\n",
    "arr = [12, 11, 13, 5, 6, 7]\n",
    "n = len(arr)\n",
    "print(\"Given array is\")\n",
    "for i in range(n):\n",
    "    print(\"%d\" % arr[i],end=\" \")\n",
    "\n",
    "mergeSort(arr, 0, n-1)\n",
    "print(\"\\n\\nSorted array is\")\n",
    "for i in range(n):\n",
    "    print(\"%d\" % arr[i],end=\" \")\n"
   ]
  },
  {
   "cell_type": "code",
   "execution_count": null,
   "id": "9fbb7973",
   "metadata": {},
   "outputs": [],
   "source": [
    "#3.Implement Quick sort\n"
   ]
  },
  {
   "cell_type": "code",
   "execution_count": 3,
   "id": "678c8032",
   "metadata": {},
   "outputs": [
    {
     "name": "stdout",
     "output_type": "stream",
     "text": [
      "[1, 2, 3, 4, 5]\n",
      "[1, 2, 2, 4, 4, 5, 6, 6, 7, 8]\n"
     ]
    }
   ],
   "source": [
    "# Python program for implementation of Quicksort Sort\n",
    "\n",
    "# This implementation utilizes pivot as the last element in the nums list\n",
    "# It has a pointer to keep track of the elements smaller than the pivot\n",
    "# At the very end of partition() function, the pointer is swapped with the pivot\n",
    "# to come up with a \"sorted\" nums relative to the pivot\n",
    "\n",
    "\n",
    "def partition(l, r, nums):\n",
    "    # Last element will be the pivot and the first element the pointer\n",
    "    pivot, ptr = nums[r], l\n",
    "    for i in range(l, r):\n",
    "        if nums[i] <= pivot:\n",
    "            # Swapping values smaller than the pivot to the front\n",
    "            nums[i], nums[ptr] = nums[ptr], nums[i]\n",
    "            ptr += 1\n",
    "    # Finally swapping the last element with the pointer indexed number\n",
    "    nums[ptr], nums[r] = nums[r], nums[ptr]\n",
    "    return ptr\n",
    "\n",
    "# With quicksort() function, we will be utilizing the above code to obtain the pointer\n",
    "# at which the left values are all smaller than the number at pointer index and vice versa\n",
    "# for the right values.\n",
    "\n",
    "\n",
    "def quicksort(l, r, nums):\n",
    "    if len(nums) == 1: # Terminating Condition for recursion. VERY IMPORTANT!\n",
    "        return nums\n",
    "    if l < r:\n",
    "        pi = partition(l, r, nums)\n",
    "        quicksort(l, pi-1, nums) # Recursively sorting the left values\n",
    "        quicksort(pi+1, r, nums) # Recursively sorting the right values\n",
    "    return nums\n",
    "\n",
    "\n",
    "example = [4, 5, 1, 2, 3]\n",
    "result = [1, 2, 3, 4, 5]\n",
    "print(quicksort(0, len(example)-1, example))\n",
    "\n",
    "example = [2, 5, 6, 1, 4, 6, 2, 4, 7, 8]\n",
    "result = [1, 2, 2, 4, 4, 5, 6, 6, 7, 8]\n",
    "# As you can see, it works for duplicates too\n",
    "print(quicksort(0, len(example)-1, example))\n"
   ]
  },
  {
   "cell_type": "code",
   "execution_count": null,
   "id": "05755816",
   "metadata": {},
   "outputs": [],
   "source": []
  }
 ],
 "metadata": {
  "kernelspec": {
   "display_name": "Python 3 (ipykernel)",
   "language": "python",
   "name": "python3"
  },
  "language_info": {
   "codemirror_mode": {
    "name": "ipython",
    "version": 3
   },
   "file_extension": ".py",
   "mimetype": "text/x-python",
   "name": "python",
   "nbconvert_exporter": "python",
   "pygments_lexer": "ipython3",
   "version": "3.9.12"
  }
 },
 "nbformat": 4,
 "nbformat_minor": 5
}
