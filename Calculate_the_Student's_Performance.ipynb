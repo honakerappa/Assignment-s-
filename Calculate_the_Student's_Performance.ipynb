{
 "cells": [
  {
   "cell_type": "code",
   "execution_count": 5,
   "id": "0483f2c3",
   "metadata": {},
   "outputs": [
    {
     "name": "stdout",
     "output_type": "stream",
     "text": [
      "Student Name = Honakerappa \n",
      "Honakerappa \n",
      "Phy marks: 80\n",
      "Chem marks: 90\n",
      "Bio marks: 40\n",
      "210\n",
      "70.0\n"
     ]
    }
   ],
   "source": [
    "# Calculate the Student's Performance\n",
    "\n",
    "# Calculate the Student's Performance\n",
    "\n",
    "class Student:\n",
    "\n",
    "    def __init__(self,phy,chem,bio):\n",
    "        self.phy = phy\n",
    "        self.chem = chem\n",
    "        self.bio = bio\n",
    "        \n",
    "    def totalObtained(self):\n",
    "        self.Marks_obtained = self.phy+self.chem+self.bio\n",
    "        \n",
    "        return self.Marks_obtained\n",
    "        \n",
    "    \n",
    "    def Percentage(self):\n",
    "        self.perc = ((self.Marks_obtained *100)/Total_marks)\n",
    "        return  self.perc\n",
    "print(str(input(\"Student Name = \")))\n",
    "_phy = int(input(\"Phy marks: \"))\n",
    "_chem = int(input(\"Chem marks: \"))\n",
    "_bio = int(input(\"Bio marks: \"))\n",
    "Total_marks = 300\n",
    "Student = Student(_phy,_chem,_bio)\n",
    "print(Student.totalObtained())\n",
    "print(Student.Percentage())\n"
   ]
  },
  {
   "cell_type": "code",
   "execution_count": null,
   "id": "adb9cbd1",
   "metadata": {},
   "outputs": [],
   "source": []
  }
 ],
 "metadata": {
  "kernelspec": {
   "display_name": "Python 3 (ipykernel)",
   "language": "python",
   "name": "python3"
  },
  "language_info": {
   "codemirror_mode": {
    "name": "ipython",
    "version": 3
   },
   "file_extension": ".py",
   "mimetype": "text/x-python",
   "name": "python",
   "nbconvert_exporter": "python",
   "pygments_lexer": "ipython3",
   "version": "3.10.0"
  }
 },
 "nbformat": 4,
 "nbformat_minor": 5
}
