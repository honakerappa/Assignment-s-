{
 "cells": [
  {
   "cell_type": "code",
   "execution_count": 1,
   "id": "02ebe9e6",
   "metadata": {},
   "outputs": [
    {
     "name": "stdout",
     "output_type": "stream",
     "text": [
      "Enter number 1: 6\n",
      "Enter number 2: 3\n",
      "Addition =  9.0\n",
      "Subtract =  3.0\n",
      "Multipy =  18.0\n",
      "Division =  2.0\n"
     ]
    }
   ],
   "source": [
    "# Implement a Calculator Class\n",
    "class Calculator:\n",
    "\n",
    "    def __init__(self,num1,num2):\n",
    "        self.num1 = num1\n",
    "        self.num2 = num2\n",
    "        \n",
    "    def add(self):\n",
    "        self.add = self.num1+self.num2\n",
    "        return self.add\n",
    "        \n",
    "    def subtract(self):\n",
    "        self.subtract = self.num1-self.num2\n",
    "        return self.subtract \n",
    "    def multipy(self):\n",
    "        self.multipy = self.num1*self.num2\n",
    "        return self.multipy\n",
    "    def division(self):\n",
    "        self.division = self.num1/self.num2\n",
    "        return self.division \n",
    "    \n",
    "_num1 = float(input(\"Enter number 1: \"))\n",
    "_num2 = float(input(\"Enter number 2: \")) \n",
    "Calculator = Calculator (_num1,_num2)\n",
    "print(\"Addition = \", Calculator.add())\n",
    "print(\"Subtract = \", Calculator.subtract())\n",
    "print(\"Multipy = \", Calculator.multipy())\n",
    "print(\"Division = \", Calculator.division())"
   ]
  },
  {
   "cell_type": "code",
   "execution_count": null,
   "id": "0a2dffab",
   "metadata": {},
   "outputs": [],
   "source": []
  }
 ],
 "metadata": {
  "kernelspec": {
   "display_name": "Python 3 (ipykernel)",
   "language": "python",
   "name": "python3"
  },
  "language_info": {
   "codemirror_mode": {
    "name": "ipython",
    "version": 3
   },
   "file_extension": ".py",
   "mimetype": "text/x-python",
   "name": "python",
   "nbconvert_exporter": "python",
   "pygments_lexer": "ipython3",
   "version": "3.10.0"
  }
 },
 "nbformat": 4,
 "nbformat_minor": 5
}
