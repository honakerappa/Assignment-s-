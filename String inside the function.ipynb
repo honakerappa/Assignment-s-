{
 "cells": [
  {
   "cell_type": "code",
   "execution_count": 5,
   "id": "0d5739a8",
   "metadata": {},
   "outputs": [
    {
     "name": "stdout",
     "output_type": "stream",
     "text": [
      "Enter the a word:1234abcd\n",
      "The reverse word: dcba4321\n"
     ]
    }
   ],
   "source": [
    "My_word = input(\"Enter the a word:\")\n",
    "def string_input():\n",
    "    word = \"\"\n",
    "    for i in My_word:\n",
    "        word = i + word\n",
    "    print (\"The reverse word:\",word)\n",
    "string_input()"
   ]
  },
  {
   "cell_type": "code",
   "execution_count": null,
   "id": "6b37bd76",
   "metadata": {},
   "outputs": [],
   "source": []
  }
 ],
 "metadata": {
  "kernelspec": {
   "display_name": "Python 3 (ipykernel)",
   "language": "python",
   "name": "python3"
  },
  "language_info": {
   "codemirror_mode": {
    "name": "ipython",
    "version": 3
   },
   "file_extension": ".py",
   "mimetype": "text/x-python",
   "name": "python",
   "nbconvert_exporter": "python",
   "pygments_lexer": "ipython3",
   "version": "3.10.0"
  }
 },
 "nbformat": 4,
 "nbformat_minor": 5
}
