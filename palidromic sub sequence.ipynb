{
 "cells": [
  {
   "cell_type": "code",
   "execution_count": null,
   "id": "be654d6f",
   "metadata": {},
   "outputs": [],
   "source": []
  },
  {
   "cell_type": "markdown",
   "id": "7d76055c",
   "metadata": {},
   "source": [
    "Given a string str, your task is to write a program which takes a string str as its only input and returns an integer denoting the no of palindromic subsequence (need not necessarily be distinct) which could be formed from the string str."
   ]
  },
  {
   "cell_type": "code",
   "execution_count": 12,
   "id": "08a5b6ac",
   "metadata": {},
   "outputs": [
    {
     "name": "stdout",
     "output_type": "stream",
     "text": [
      "Enter th string: abcedf\n",
      "Total palindromic subsequence are :  6\n"
     ]
    }
   ],
   "source": [
    "def palindromic_subseq(str_input):\n",
    "    N = len(str_input)\n",
    "    sub_seq_list = [[0 for i in range(N + 2)]for j in range(N + 2)]\n",
    "    for i in range(N):\n",
    "        sub_seq_list[i][i] = 1\n",
    "    for L in range(2, N + 1):\n",
    " \n",
    "        for i in range(N):\n",
    "            k = L + i - 1\n",
    "            if (k < N):\n",
    "                if (str_input[i] ==str_input[k]):\n",
    "                    sub_seq_list[i][k] = (sub_seq_list[i][k - 1] +\n",
    "                                 sub_seq_list[i + 1][k] + 1)\n",
    "                else:\n",
    "                    sub_seq_list[i][k] = (sub_seq_list[i][k - 1] +\n",
    "                                 sub_seq_list[i + 1][k] -\n",
    "                                 sub_seq_list[i + 1][k - 1])\n",
    " \n",
    "    # return total palindromic subsequence\n",
    "    return sub_seq_list[0][N - 1]\n",
    " \n",
    "str_input = input(\"Enter th string: \")\n",
    "print(\"Total palindromic subsequence are : \", palindromic_subseq(str_input))\n",
    " "
   ]
  }
 ],
 "metadata": {
  "kernelspec": {
   "display_name": "Python 3 (ipykernel)",
   "language": "python",
   "name": "python3"
  },
  "language_info": {
   "codemirror_mode": {
    "name": "ipython",
    "version": 3
   },
   "file_extension": ".py",
   "mimetype": "text/x-python",
   "name": "python",
   "nbconvert_exporter": "python",
   "pygments_lexer": "ipython3",
   "version": "3.9.12"
  }
 },
 "nbformat": 4,
 "nbformat_minor": 5
}
