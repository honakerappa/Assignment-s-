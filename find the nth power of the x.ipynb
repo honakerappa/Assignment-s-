{
 "cells": [
  {
   "cell_type": "code",
   "execution_count": 3,
   "id": "071c58f0",
   "metadata": {},
   "outputs": [
    {
     "name": "stdout",
     "output_type": "stream",
     "text": [
      "Positve inter = 10\n",
      "Exponent value = 2\n",
      "The power of given Nth number =  100\n"
     ]
    }
   ],
   "source": [
    "#Using for loop method\n",
    "class Powern:\n",
    "    def __init__(self,x,n):\n",
    "        self.x = x\n",
    "        self.n = n\n",
    "    def nthPower(self):\n",
    "        power = 1\n",
    "        for i in range (1,self.n+1):\n",
    "            power = power *self.x\n",
    "        print('The power of given Nth number = ',power)\n",
    "\n",
    "x=int(input(\"Positve inter = \"))\n",
    "n=int(input(\"Exponent value = \"))\n",
    "powern = Powern(x,n)\n",
    "powern.nthPower()\n",
    "            "
   ]
  },
  {
   "cell_type": "code",
   "execution_count": 4,
   "id": "f9bc386a",
   "metadata": {},
   "outputs": [
    {
     "name": "stdout",
     "output_type": "stream",
     "text": [
      "Positve inter = 10\n",
      "Exponent value = 2\n",
      "The power of given Nth number =  100\n"
     ]
    }
   ],
   "source": [
    "#Using math function pow(x,n)\n",
    "class Powern:\n",
    "    def __init__(self,x,n):\n",
    "        self.x = x\n",
    "        self.n = n\n",
    "    def nthPower(self):\n",
    "        power = pow(self.x , self.n)\n",
    "        print('The power of given Nth number = ',power)\n",
    "\n",
    "x=int(input(\"Positve inter = \"))\n",
    "n=int(input(\"Exponent value = \"))\n",
    "powern = Powern(x,n)\n",
    "powern.nthPower()"
   ]
  },
  {
   "cell_type": "code",
   "execution_count": null,
   "id": "c77404eb",
   "metadata": {},
   "outputs": [],
   "source": []
  }
 ],
 "metadata": {
  "kernelspec": {
   "display_name": "Python 3 (ipykernel)",
   "language": "python",
   "name": "python3"
  },
  "language_info": {
   "codemirror_mode": {
    "name": "ipython",
    "version": 3
   },
   "file_extension": ".py",
   "mimetype": "text/x-python",
   "name": "python",
   "nbconvert_exporter": "python",
   "pygments_lexer": "ipython3",
   "version": "3.10.0"
  }
 },
 "nbformat": 4,
 "nbformat_minor": 5
}
