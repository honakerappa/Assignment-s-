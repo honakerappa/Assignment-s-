{
 "cells": [
  {
   "cell_type": "code",
   "execution_count": 1,
   "id": "faecd70b",
   "metadata": {},
   "outputs": [
    {
     "name": "stdout",
     "output_type": "stream",
     "text": [
      "X vlaue: 1\n",
      "Y vlaue: 3\n",
      "Z vlaue: 5\n",
      "Results of suare the given number and their sum :  35\n"
     ]
    }
   ],
   "source": [
    "# Challenge 1: Square Numbers and Return Their Sum\n",
    "\n",
    "class Point:\n",
    "    \n",
    "    def __init__ (self,x,y,z):\n",
    "        self.xm = x\n",
    "        self.y = y\n",
    "        self.z = z\n",
    "    def sqNum(self):\n",
    "        print(\"Results of suare the given number and their sum : \", self.xm**2 + self.y**2+self.z**2)\n",
    "_x = int(input(\"X vlaue: \"))\n",
    "_y = int(input(\"Y vlaue: \"))\n",
    "_z = int(input(\"Z vlaue: \"))\n",
    "r = Point(_x,_y,_z)\n",
    "r.sqNum()"
   ]
  },
  {
   "cell_type": "code",
   "execution_count": null,
   "id": "1704bc8a",
   "metadata": {},
   "outputs": [],
   "source": []
  }
 ],
 "metadata": {
  "kernelspec": {
   "display_name": "Python 3 (ipykernel)",
   "language": "python",
   "name": "python3"
  },
  "language_info": {
   "codemirror_mode": {
    "name": "ipython",
    "version": 3
   },
   "file_extension": ".py",
   "mimetype": "text/x-python",
   "name": "python",
   "nbconvert_exporter": "python",
   "pygments_lexer": "ipython3",
   "version": "3.10.0"
  }
 },
 "nbformat": 4,
 "nbformat_minor": 5
}
