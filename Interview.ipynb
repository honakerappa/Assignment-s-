{
 "cells": [
  {
   "cell_type": "markdown",
   "id": "e26c153d",
   "metadata": {},
   "source": [
    "###### 1. What is Python? What are the benefits of using Python?\n",
    "###### --> Python is a high-level, interpreted, general-purpose programming language. Being a general-purpose language\n",
    "\n"
   ]
  },
  {
   "cell_type": "markdown",
   "id": "3ba25d13",
   "metadata": {},
   "source": [
    "##### 2. What are lists and tuples? What is the key difference between the two?\n",
    "##### --> Lists are represented with square brackets. tuples are represented with parantheses.lists are mutable. \n",
    "#####     tuples on the other hand are immutable objects.\n",
    "#####     This means that lists can be modified, appended or sliced on the go but tuples remain constant and cannot be modified in any manner.\n",
    "\n"
   ]
  },
  {
   "cell_type": "code",
   "execution_count": null,
   "id": "7e680a29",
   "metadata": {},
   "outputs": [],
   "source": [
    "my_tuple = ('sara', 6, 5, 0.97)\n",
    "my_list = ['sara', 6, 5, 0.97]\n",
    "print(my_tuple[0])     # output => 'sara'\n",
    "print(my_list[0])     # output => 'sara'\n",
    "# my_tuple[0] = 'ansh'    # modifying tuple => throws an error\n",
    "my_list[0] = 'ansh'    # modifying list => list modified\n",
    "print(my_tuple[0])     # output => 'sara'\n",
    "print(my_list[0])     # output => 'ansh'"
   ]
  },
  {
   "cell_type": "markdown",
   "id": "3d793b76",
   "metadata": {},
   "source": [
    "###### 3. What is pass in Python?\n",
    "###### --> he pass keyword represents a null operation in Python. It is generally used for the purpose of filling up empty blocks of code which may execute during runtime but has yet to be written"
   ]
  },
  {
   "cell_type": "code",
   "execution_count": 5,
   "id": "b9bd0e73",
   "metadata": {},
   "outputs": [],
   "source": [
    "def myEmptyFunc():\n",
    "   # do nothing\n",
    "   pass\n",
    "myEmptyFunc()    # nothing happens\n",
    "## Without the pass keyword\n",
    "# File \"<stdin>\", line 3\n",
    "# IndentationError: expected an indented block"
   ]
  },
  {
   "cell_type": "markdown",
   "id": "1f398e49",
   "metadata": {},
   "source": [
    "###### 4. What are global, protected and private attributes in Python?\n",
    "###### -->Global variables are public variables that are defined in the global scope. To use the variable in the global scope inside a function, we use the global keyword.\n",
    "###### -->Protected attributes are attributes defined with an underscore prefixed to their identifier eg. _sara. They can still be accessed and modified from outside the class they are defined in but a responsible developer should refrain from doing so.\n",
    "###### -->Private attributes are attributes with double underscore prefixed to their identifier eg. __ansh. They cannot be accessed or modified from the outside directly and will result in an AttributeError if such an attempt is made\n"
   ]
  },
  {
   "cell_type": "markdown",
   "id": "e275cfa8",
   "metadata": {},
   "source": [
    "##### 5. What is the use of self in Python?\n",
    "##### -->Self is used to represent the instance of the class. With this keyword, you can access the attributes and methods of the class in python. It binds the attributes with the given arguments. self is used in different places and often thought to be a keyword\n"
   ]
  },
  {
   "cell_type": "markdown",
   "id": "4e9dbf1d",
   "metadata": {},
   "source": [
    "###### 6. What is __init__?\n",
    "###### --> _init__ is a contructor method in Python and is automatically called to allocate memory when a new object/instance is created. All classes have a __init__ method associated with them. It helps in distinguishing methods and attributes of a class from local variables."
   ]
  },
  {
   "cell_type": "code",
   "execution_count": 6,
   "id": "bccc2fbc",
   "metadata": {},
   "outputs": [],
   "source": [
    "# class definition\n",
    "class Student:\n",
    "   def __init__(self, fname, lname, age, section):\n",
    "       self.firstname = fname\n",
    "       self.lastname = lname\n",
    "       self.age = age\n",
    "       self.section = section\n",
    "# creating a new object\n",
    "stu1 = Student(\"Sara\", \"Ansh\", 22, \"A2\")"
   ]
  },
  {
   "cell_type": "markdown",
   "id": "5e9217a5",
   "metadata": {},
   "source": [
    "###### 7. What is break, continue and pass in Python?\n",
    "###### --> Break\tThe break statement terminates the loop immediately and the control flows to the statement after the body of the loop.\n",
    "###### -->Continue\tThe continue statement terminates the current iteration of the statement, skips the rest of the code in the current iteration and the control flows to the next iteration of the loop\n",
    "\n"
   ]
  },
  {
   "cell_type": "code",
   "execution_count": 7,
   "id": "57c49c82",
   "metadata": {},
   "outputs": [
    {
     "name": "stdout",
     "output_type": "stream",
     "text": [
      "1\n",
      "3\n",
      "1\n",
      "3\n",
      "1\n",
      "0\n"
     ]
    }
   ],
   "source": [
    "pat = [1, 3, 2, 1, 2, 3, 1, 0, 1, 3]\n",
    "for p in pat:\n",
    "   pass\n",
    "   if (p == 0):\n",
    "       current = p\n",
    "       break\n",
    "   elif (p % 2 == 0):\n",
    "       continue\n",
    "   print(p)    # output => 1 3 1 3 1\n",
    "print(current)    # output => 0"
   ]
  },
  {
   "cell_type": "markdown",
   "id": "c95e5266",
   "metadata": {},
   "source": [
    "### 8.What are Dict and List comprehensions?"
   ]
  },
  {
   "cell_type": "code",
   "execution_count": null,
   "id": "7d306713",
   "metadata": {},
   "outputs": [],
   "source": [
    "Dictionary and list comprehensions are just another concise way to define dictionaries and lists.\n",
    "\n",
    "Example of list comprehension is-\n",
    "\n",
    "1\n",
    "x=[i for i in range(5)]\n",
    "The above code creates a list as below-\n",
    "\n",
    "1\n",
    "2\n",
    "4\n",
    "[0,1,2,3,4]\n",
    "Example of dictionary comprehension is-\n",
    "\n",
    "1\n",
    "x=[i : i+2 for i in range(5)]\n",
    "The above code creates a list as below-\n",
    "\n",
    "1\n",
    "[0: 2, 1: 3, 2: 4, 3: 5, 4: 6]"
   ]
  },
  {
   "cell_type": "markdown",
   "id": "5a46188a",
   "metadata": {},
   "source": [
    "#### 9.What is the difference between Python Arrays and lists?"
   ]
  },
  {
   "cell_type": "markdown",
   "id": "2112874d",
   "metadata": {},
   "source": [
    "Arrays and lists, in Python, have the same way of storing data. \n",
    "But, arrays can hold only a single data type elements whereas lists can hold any data type elements"
   ]
  },
  {
   "cell_type": "markdown",
   "id": "adf9e7e0",
   "metadata": {},
   "source": [
    "#### 10.What is a lambda function"
   ]
  },
  {
   "cell_type": "markdown",
   "id": "d2c8d4c5",
   "metadata": {},
   "source": [
    " An anonymous function is known as a lambda function. This function can have any number of parameters but, can have just one statement"
   ]
  },
  {
   "cell_type": "code",
   "execution_count": 1,
   "id": "6529c681",
   "metadata": {},
   "outputs": [
    {
     "name": "stdout",
     "output_type": "stream",
     "text": [
      "11\n"
     ]
    }
   ],
   "source": [
    "a = lambda x,y : x+y\n",
    "print(a(5, 6))"
   ]
  },
  {
   "cell_type": "markdown",
   "id": "2115ab35",
   "metadata": {},
   "source": [
    "#### 11.Explain split(), sub(), subn() methods of “re” module in Python."
   ]
  },
  {
   "cell_type": "markdown",
   "id": "07080240",
   "metadata": {},
   "source": [
    "split() – uses a regex pattern to “split” a given string into a list.\n",
    "sub() – finds all substrings where the regex pattern matches and then replace them with a different string.\n",
    "subn() – it is similar to sub() and also returns the new string along with the no. of replacements."
   ]
  },
  {
   "cell_type": "markdown",
   "id": "ffccc368",
   "metadata": {},
   "source": [
    "#### 12.What is the difference between deep and shallow copy?"
   ]
  },
  {
   "cell_type": "markdown",
   "id": "0735cce6",
   "metadata": {},
   "source": [
    "Shallow copy is used when a new instance type gets created and it keeps the values that are copied in the new instance. Shallow copy is used to copy the reference pointers just like it copies the values. These references point to the original objects and the changes made in any member of the class will also affect the original copy of it. Shallow copy allows faster execution of the program and it depends on the size of the data that is used"
   ]
  },
  {
   "cell_type": "markdown",
   "id": "4f0060e6",
   "metadata": {},
   "source": [
    "Deep copy is used to store the values that are already copied. Deep copy doesn’t copy the reference pointers to the objects. It makes the reference to an object and the new object that is pointed by some other object gets stored. The changes made in the original copy won’t affect any other copy that uses the object. Deep copy makes execution of the program slower due to making certain copies for each object that is been called"
   ]
  },
  {
   "cell_type": "markdown",
   "id": "a481e5df",
   "metadata": {},
   "source": [
    "#### 13.Explain Inheritance in Python with an example."
   ]
  },
  {
   "cell_type": "markdown",
   "id": "70931a6d",
   "metadata": {},
   "source": [
    " Inheritance allows One class to gain all the members(say attributes and methods) of another class. Inheritance provides code reusability, makes it easier to create and maintain an application. The class from which we are inheriting is called super-class and the class that is inherited is called a derived / child class.\n",
    "\n",
    "They are different types of inheritance supported by Python:\n",
    "\n",
    "Single Inheritance – where a derived class acquires the members of a single super class.\n",
    "Multi-level inheritance – a derived class d1 in inherited from base class base1, and d2 are inherited from base2.\n",
    "Hierarchical inheritance – from one base class you can inherit any number of child classes\n",
    "Multiple inheritance – a derived class is inherited from more than one base class."
   ]
  },
  {
   "cell_type": "markdown",
   "id": "10f11a14",
   "metadata": {},
   "source": [
    "#### 14.Does python support multiple inheritance?"
   ]
  },
  {
   "cell_type": "markdown",
   "id": "b0b8abe2",
   "metadata": {},
   "source": [
    "Multiple inheritance means that a class can be derived from more than one parent classes. Python does support multiple inheritance, unlike Java."
   ]
  },
  {
   "cell_type": "markdown",
   "id": "13f640cc",
   "metadata": {},
   "source": [
    "#### 15. What is Polymorphism in Python?"
   ]
  },
  {
   "cell_type": "markdown",
   "id": "6082fec8",
   "metadata": {},
   "source": [
    " Polymorphism means the ability to take multiple forms. So, for instance, if the parent class has a method named ABC then the child class also can have a method with the same name ABC having its own parameters and variables. Python allows polymorphism"
   ]
  },
  {
   "cell_type": "markdown",
   "id": "f3677504",
   "metadata": {},
   "source": [
    "#### 16. Define encapsulation in Python?"
   ]
  },
  {
   "cell_type": "markdown",
   "id": "a014a75a",
   "metadata": {},
   "source": [
    "Encapsulation means binding the code and the data together. A Python class in an example of encapsulation"
   ]
  },
  {
   "cell_type": "markdown",
   "id": "d961e60c",
   "metadata": {},
   "source": [
    "#### 17.How does a function return values?"
   ]
  },
  {
   "cell_type": "markdown",
   "id": "d7d57fbe",
   "metadata": {},
   "source": [
    "A function uses the ‘return’ keyword to return a value\n",
    "def add(a,b):\n",
    "return a+b"
   ]
  },
  {
   "cell_type": "markdown",
   "id": "4269a825",
   "metadata": {},
   "source": [
    "#### 18. How will you convert a list into a string?"
   ]
  },
  {
   "cell_type": "markdown",
   "id": "6c29131c",
   "metadata": {},
   "source": [
    "We will use the join() method for this."
   ]
  },
  {
   "cell_type": "code",
   "execution_count": 7,
   "id": "f052be2c",
   "metadata": {},
   "outputs": [
    {
     "name": "stdout",
     "output_type": "stream",
     "text": [
      "one two three four five six seven\n"
     ]
    }
   ],
   "source": [
    "nums=['one','two','three','four','five','six','seven']\n",
    "s=' '.join(nums)\n",
    "print(s)"
   ]
  },
  {
   "cell_type": "markdown",
   "id": "7c3e5fe9",
   "metadata": {},
   "source": [
    "#### 19. What is a docstring?"
   ]
  },
  {
   "cell_type": "markdown",
   "id": "9f2905c0",
   "metadata": {},
   "source": [
    "A docstring is a documentation string that we use to explain what a construct does. We place it as the first thing under a function, class, or a method, to describe what it does. We declare a docstring using three sets of single or double-quotes."
   ]
  },
  {
   "cell_type": "markdown",
   "id": "ab4bff80",
   "metadata": {},
   "source": [
    "#### 20.Write code to print everything in the string except the spaces."
   ]
  },
  {
   "cell_type": "code",
   "execution_count": 11,
   "id": "1ebcf8f6",
   "metadata": {},
   "outputs": [
    {
     "name": "stdout",
     "output_type": "stream",
     "text": [
      "onetwothreefourfivesixseven"
     ]
    }
   ],
   "source": [
    "for i in s:\n",
    "    if i==' ': continue\n",
    "    print(i,end='')"
   ]
  },
  {
   "cell_type": "code",
   "execution_count": null,
   "id": "922bbb53",
   "metadata": {},
   "outputs": [],
   "source": []
  }
 ],
 "metadata": {
  "kernelspec": {
   "display_name": "Python 3 (ipykernel)",
   "language": "python",
   "name": "python3"
  },
  "language_info": {
   "codemirror_mode": {
    "name": "ipython",
    "version": 3
   },
   "file_extension": ".py",
   "mimetype": "text/x-python",
   "name": "python",
   "nbconvert_exporter": "python",
   "pygments_lexer": "ipython3",
   "version": "3.10.0"
  }
 },
 "nbformat": 4,
 "nbformat_minor": 5
}
