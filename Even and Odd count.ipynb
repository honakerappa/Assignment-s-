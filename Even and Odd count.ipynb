{
 "cells": [
  {
   "cell_type": "markdown",
   "id": "f62cdb5a",
   "metadata": {},
   "source": [
    "### Write a Python program to count the number of even and odd numbers from a series of numbers."
   ]
  },
  {
   "cell_type": "code",
   "execution_count": 3,
   "id": "06c1edc0",
   "metadata": {},
   "outputs": [
    {
     "name": "stdout",
     "output_type": "stream",
     "text": [
      "The number of Even numbers in series is: 5\n",
      "The number of Odd numbers in series is: 6\n"
     ]
    }
   ],
   "source": [
    "num = (2,4,5,6,34,67,89,23,65,98,39)\n",
    "Count_even =0\n",
    "Count_odd = 0\n",
    "for i in num:\n",
    "    if not i % 2:\n",
    "        Count_even +=1\n",
    "    else:\n",
    "        Count_odd +=1\n",
    "print(\"The number of Even numbers in series is:\", Count_even)\n",
    "print(\"The number of Odd numbers in series is:\",Count_odd)"
   ]
  },
  {
   "cell_type": "code",
   "execution_count": null,
   "id": "ce81f109",
   "metadata": {},
   "outputs": [],
   "source": []
  }
 ],
 "metadata": {
  "kernelspec": {
   "display_name": "Python 3 (ipykernel)",
   "language": "python",
   "name": "python3"
  },
  "language_info": {
   "codemirror_mode": {
    "name": "ipython",
    "version": 3
   },
   "file_extension": ".py",
   "mimetype": "text/x-python",
   "name": "python",
   "nbconvert_exporter": "python",
   "pygments_lexer": "ipython3",
   "version": "3.10.0"
  }
 },
 "nbformat": 4,
 "nbformat_minor": 5
}
