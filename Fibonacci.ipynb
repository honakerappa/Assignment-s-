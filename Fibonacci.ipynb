{
 "cells": [
  {
   "cell_type": "markdown",
   "id": "398da32c",
   "metadata": {},
   "source": [
    "### Write a Python program to get the Fibonacci series between 0 to 50\n"
   ]
  },
  {
   "cell_type": "code",
   "execution_count": 1,
   "id": "c2a458ad",
   "metadata": {},
   "outputs": [],
   "source": [
    "# Note : The Fibonacci Sequence is the series of numbers :\n",
    "\n",
    "# 0, 1, 1, 2, 3, 5, 8, 13, 21, ....\n",
    "\n",
    "#Every next number is found by adding up the two numbers before it.\n",
    "\n",
    "# Expected Output : 1 1 2 3 5 8 13 21 34"
   ]
  },
  {
   "cell_type": "code",
   "execution_count": 2,
   "id": "17de52a6",
   "metadata": {},
   "outputs": [
    {
     "name": "stdout",
     "output_type": "stream",
     "text": [
      "1\n",
      "1\n",
      "2\n",
      "3\n",
      "5\n",
      "8\n",
      "13\n",
      "21\n",
      "34\n"
     ]
    }
   ],
   "source": [
    "a = 0\n",
    "b = 1\n",
    "while b<50:\n",
    "    print(b)\n",
    "    a,b= b,a+b"
   ]
  },
  {
   "cell_type": "code",
   "execution_count": null,
   "id": "00b9c3b4",
   "metadata": {},
   "outputs": [],
   "source": []
  }
 ],
 "metadata": {
  "kernelspec": {
   "display_name": "Python 3 (ipykernel)",
   "language": "python",
   "name": "python3"
  },
  "language_info": {
   "codemirror_mode": {
    "name": "ipython",
    "version": 3
   },
   "file_extension": ".py",
   "mimetype": "text/x-python",
   "name": "python",
   "nbconvert_exporter": "python",
   "pygments_lexer": "ipython3",
   "version": "3.10.0"
  }
 },
 "nbformat": 4,
 "nbformat_minor": 5
}
