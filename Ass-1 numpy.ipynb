{
 "cells": [
  {
   "cell_type": "code",
   "execution_count": 5,
   "id": "a7d4935d",
   "metadata": {},
   "outputs": [
    {
     "name": "stdout",
     "output_type": "stream",
     "text": [
      "[0. 0. 0. 0. 1. 0. 0. 0. 0. 0.]\n"
     ]
    }
   ],
   "source": [
    "#1.Create a null vector of size 10 but the fifth value which is 1\n",
    "import numpy as np\n",
    "Z = np.zeros(10)\n",
    "Z[4] = 1\n",
    "print(Z)"
   ]
  },
  {
   "cell_type": "code",
   "execution_count": 9,
   "id": "d27b8a50",
   "metadata": {},
   "outputs": [
    {
     "name": "stdout",
     "output_type": "stream",
     "text": [
      "[10 11 12 13 14 15 16 17 18 19 20 21 22 23 24 25 26 27 28 29 30 31 32 33\n",
      " 34 35 36 37 38 39 40 41 42 43 44 45 46 47 48 49]\n"
     ]
    }
   ],
   "source": [
    "#2.Create a vector with values ranging from 10 to 49\n",
    "Z = 10 + np.arange(40)\n",
    "print(Z)"
   ]
  },
  {
   "cell_type": "code",
   "execution_count": 11,
   "id": "7748df57",
   "metadata": {},
   "outputs": [
    {
     "name": "stdout",
     "output_type": "stream",
     "text": [
      "[[0 1 2]\n",
      " [3 4 5]\n",
      " [6 7 8]]\n"
     ]
    }
   ],
   "source": [
    "#3.Create a 3x3 matrix with values ranging from 0 to 8\n",
    "Z = np.arange(9).reshape(3,3)\n",
    "print(Z)\n"
   ]
  },
  {
   "cell_type": "code",
   "execution_count": 12,
   "id": "4f74cc18",
   "metadata": {},
   "outputs": [
    {
     "name": "stdout",
     "output_type": "stream",
     "text": [
      "(array([0, 1, 4], dtype=int64),)\n"
     ]
    }
   ],
   "source": [
    "#4.Find indices of non-zero elements from [1,2,0,0,4,0]\n",
    "nz = np.nonzero([1,2,0,0,4,0])\n",
    "print(nz)"
   ]
  },
  {
   "cell_type": "code",
   "execution_count": 14,
   "id": "2797d713",
   "metadata": {},
   "outputs": [
    {
     "name": "stdout",
     "output_type": "stream",
     "text": [
      "[[0.62187011 0.66043269 0.44434661 0.68811036 0.62763692 0.23087427\n",
      "  0.46294207 0.35615099 0.96259393 0.38048915]\n",
      " [0.02198126 0.45044239 0.23938135 0.66054857 0.62398636 0.35739123\n",
      "  0.73371278 0.60311268 0.21445178 0.86980838]\n",
      " [0.39075692 0.5632591  0.61793952 0.40553094 0.89764703 0.00112738\n",
      "  0.80883097 0.86730084 0.66737527 0.87517239]\n",
      " [0.88931523 0.73521151 0.43802803 0.36699477 0.4024173  0.550003\n",
      "  0.50428676 0.96715771 0.691175   0.08634399]\n",
      " [0.98544436 0.83398994 0.91360386 0.17099218 0.14859956 0.61118507\n",
      "  0.02819229 0.03271446 0.09537052 0.12953976]\n",
      " [0.23434016 0.26792203 0.30507682 0.9084493  0.58124969 0.96976021\n",
      "  0.18480124 0.56834395 0.6504323  0.79823219]\n",
      " [0.6587624  0.3388718  0.29355459 0.06126419 0.19889324 0.64146875\n",
      "  0.69689079 0.14421605 0.77600187 0.12641312]\n",
      " [0.19563292 0.87172151 0.07067379 0.78409635 0.14540514 0.75925677\n",
      "  0.16995561 0.12973303 0.81456255 0.07370034]\n",
      " [0.79347387 0.13462205 0.51371834 0.99486204 0.01502266 0.62020169\n",
      "  0.84031214 0.28772876 0.29716736 0.1715748 ]\n",
      " [0.31041733 0.35797793 0.13139962 0.18752839 0.68335258 0.40254223\n",
      "  0.87992517 0.42409181 0.96607287 0.50886796]]\n"
     ]
    }
   ],
   "source": [
    "#5.Create a 10x10 array with random values and find the minimum and maximum values\n",
    "Z = np.random.random((10,10))\n",
    "Zmin, Zmax = Z.min(), Z.max()\n",
    "print(Z)"
   ]
  },
  {
   "cell_type": "code",
   "execution_count": 15,
   "id": "595e2614",
   "metadata": {},
   "outputs": [
    {
     "name": "stdout",
     "output_type": "stream",
     "text": [
      "0.5010030834402402\n"
     ]
    }
   ],
   "source": [
    "#6.Create a random vector of size 30 and find the mean value.\n",
    "Z = np.random.random(100)\n",
    "Z.sort()\n",
    "m = Z.mean()\n",
    "print(m)"
   ]
  },
  {
   "cell_type": "code",
   "execution_count": null,
   "id": "a967acc8",
   "metadata": {},
   "outputs": [],
   "source": []
  }
 ],
 "metadata": {
  "kernelspec": {
   "display_name": "Python 3 (ipykernel)",
   "language": "python",
   "name": "python3"
  },
  "language_info": {
   "codemirror_mode": {
    "name": "ipython",
    "version": 3
   },
   "file_extension": ".py",
   "mimetype": "text/x-python",
   "name": "python",
   "nbconvert_exporter": "python",
   "pygments_lexer": "ipython3",
   "version": "3.9.12"
  }
 },
 "nbformat": 4,
 "nbformat_minor": 5
}
